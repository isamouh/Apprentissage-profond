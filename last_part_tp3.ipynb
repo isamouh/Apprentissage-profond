{
 "cells": [
  {
   "cell_type": "code",
   "execution_count": 19,
   "id": "6c75518c-49a1-4d2b-a000-e9d977bdae0c",
   "metadata": {},
   "outputs": [],
   "source": [
    "from sklearn.datasets import load_diabetes\n",
    "from sklearn.model_selection import train_test_split\n",
    "import numpy as np\n",
    "import matplotlib.pyplot as plt\n",
    "from sklearn.tree import DecisionTreeRegressor\n",
    "from sklearn import tree\n",
    "from sklearn.model_selection import GridSearchCV"
   ]
  },
  {
   "cell_type": "code",
   "execution_count": 2,
   "id": "3f7fff63-bcfe-460d-a9e8-aca837d561f6",
   "metadata": {},
   "outputs": [],
   "source": [
    "data_db=load_diabetes()"
   ]
  },
  {
   "cell_type": "code",
   "execution_count": 3,
   "id": "c3955ceb-fe27-457e-b752-1e3ebc5b5d33",
   "metadata": {},
   "outputs": [],
   "source": [
    "X,y=data_db.data,data_db.target"
   ]
  },
  {
   "cell_type": "code",
   "execution_count": 4,
   "id": "75b91fe1-12b8-4b66-88ab-312851150ac4",
   "metadata": {},
   "outputs": [
    {
     "data": {
      "text/plain": [
       "4420"
      ]
     },
     "execution_count": 4,
     "metadata": {},
     "output_type": "execute_result"
    }
   ],
   "source": [
    "X.size"
   ]
  },
  {
   "cell_type": "code",
   "execution_count": 5,
   "id": "6867f9f4-0c74-4300-92d0-84b0f2c85b63",
   "metadata": {},
   "outputs": [
    {
     "data": {
      "text/plain": [
       "442"
      ]
     },
     "execution_count": 5,
     "metadata": {},
     "output_type": "execute_result"
    }
   ],
   "source": [
    "y.size"
   ]
  },
  {
   "cell_type": "code",
   "execution_count": 6,
   "id": "fbfdf01b-eb0e-48ed-8b5a-f1fa1b9348f4",
   "metadata": {},
   "outputs": [
    {
     "data": {
      "text/plain": [
       "['age', 'sex', 'bmi', 'bp', 's1', 's2', 's3', 's4', 's5', 's6']"
      ]
     },
     "execution_count": 6,
     "metadata": {},
     "output_type": "execute_result"
    }
   ],
   "source": [
    "data_db.feature_names"
   ]
  },
  {
   "cell_type": "code",
   "execution_count": 7,
   "id": "e301e2d0-8b78-4d5c-b1a0-0270852174fe",
   "metadata": {},
   "outputs": [],
   "source": [
    "X_train,X_test,y_train,y_test = train_test_split(X, y,train_size=0.7,random_state=0)"
   ]
  },
  {
   "cell_type": "code",
   "execution_count": 8,
   "id": "53069e7c-578a-4eee-80e4-8b437958694c",
   "metadata": {},
   "outputs": [
    {
     "data": {
      "text/plain": [
       "DecisionTreeRegressor()"
      ]
     },
     "execution_count": 8,
     "metadata": {},
     "output_type": "execute_result"
    }
   ],
   "source": [
    "model= DecisionTreeRegressor()\n",
    "model.fit(X_train,y_train)"
   ]
  },
  {
   "cell_type": "code",
   "execution_count": 9,
   "id": "83cb3af8-14f6-4d81-8e39-db7928a77399",
   "metadata": {},
   "outputs": [],
   "source": [
    "y_pred = model.predict(X_test)"
   ]
  },
  {
   "cell_type": "code",
   "execution_count": 12,
   "id": "25d0a7c3-4b99-41b3-9399-0115b964aa21",
   "metadata": {},
   "outputs": [
    {
     "data": {
      "text/plain": [
       "6044.5939849624065"
      ]
     },
     "execution_count": 12,
     "metadata": {},
     "output_type": "execute_result"
    }
   ],
   "source": [
    "from sklearn.metrics import mean_squared_error\n",
    "mean_squared_error(y_test,y_pred)"
   ]
  },
  {
   "cell_type": "code",
   "execution_count": 20,
   "id": "60fcbf8e-da42-4701-ba18-7c80ad97bf9e",
   "metadata": {},
   "outputs": [
    {
     "name": "stdout",
     "output_type": "stream",
     "text": [
      "Fitting 5 folds for each of 40 candidates, totalling 200 fits\n"
     ]
    },
    {
     "name": "stderr",
     "output_type": "stream",
     "text": [
      "/home/etudiant/anaconda3/lib/python3.9/site-packages/sklearn/model_selection/_split.py:676: UserWarning: The least populated class in y has only 1 members, which is less than n_splits=5.\n",
      "  warnings.warn(\n"
     ]
    },
    {
     "name": "stdout",
     "output_type": "stream",
     "text": [
      "Meilleur paramètres à choisir : {'max_depth': 3, 'min_samples_leaf': 30} \n",
      "Meilleur score obtenu : 0.022633527234267585 \n"
     ]
    }
   ],
   "source": [
    "values_depth = [1, 3, 5, 10, 20, 30, 40, 100] \n",
    "values_leaf=[10,20,30,50,600]\n",
    "parameters={'max_depth':values_depth,'min_samples_leaf':values_leaf}\n",
    "model = tree.DecisionTreeClassifier()\n",
    "grid_search = GridSearchCV(estimator=model,param_grid=parameters,verbose=True)\n",
    "grid_search.fit(X_train, y_train)\n",
    "#Meilleurs parametres a choisir\n",
    "print(\"Meilleur paramètres à choisir : {} \".format(grid_search.best_params_))\n",
    "#Meilleur score obtenue pour ces params\n",
    "print(\"Meilleur score obtenu : {} \".format(grid_search.best_score_))"
   ]
  },
  {
   "cell_type": "code",
   "execution_count": null,
   "id": "40d2fdce-a8b2-4bf1-87b8-50d6f80a206d",
   "metadata": {},
   "outputs": [],
   "source": []
  }
 ],
 "metadata": {
  "kernelspec": {
   "display_name": "Python 3 (ipykernel)",
   "language": "python",
   "name": "python3"
  },
  "language_info": {
   "codemirror_mode": {
    "name": "ipython",
    "version": 3
   },
   "file_extension": ".py",
   "mimetype": "text/x-python",
   "name": "python",
   "nbconvert_exporter": "python",
   "pygments_lexer": "ipython3",
   "version": "3.9.12"
  }
 },
 "nbformat": 4,
 "nbformat_minor": 5
}
