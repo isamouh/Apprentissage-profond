{
 "cells": [
  {
   "cell_type": "code",
   "execution_count": 1,
   "id": "036f3869-0bd5-4d0f-aa29-b1a1a1a93415",
   "metadata": {},
   "outputs": [],
   "source": [
    "from sklearn.datasets import load_iris\n",
    "import numpy as np\n",
    "import math\n",
    "from sklearn import tree\n",
    "from sklearn.model_selection import GridSearchCV\n",
    "import matplotlib.pyplot as plt\n",
    "from sklearn.tree import export_graphviz"
   ]
  },
  {
   "cell_type": "code",
   "execution_count": 2,
   "id": "ed28713c-e6cd-476f-b36f-5d616a1ffc9f",
   "metadata": {},
   "outputs": [],
   "source": [
    "iris_data = load_iris()\n",
    "X, y = iris_data.data, iris_data.target"
   ]
  },
  {
   "cell_type": "code",
   "execution_count": 3,
   "id": "8288cce8-95ba-4144-b4a8-f77cc5a2e1cc",
   "metadata": {},
   "outputs": [
    {
     "data": {
      "text/plain": [
       "array([0, 0, 0, 0, 0, 0, 0, 0, 0, 0, 0, 0, 0, 0, 0, 0, 0, 0, 0, 0, 0, 0,\n",
       "       0, 0, 0, 0, 0, 0, 0, 0, 0, 0, 0, 0, 0, 0, 0, 0, 0, 0, 0, 0, 0, 0,\n",
       "       0, 0, 0, 0, 0, 0, 1, 1, 1, 1, 1, 1, 1, 1, 1, 1, 1, 1, 1, 1, 1, 1,\n",
       "       1, 1, 1, 1, 1, 1, 1, 1, 1, 1, 1, 1, 1, 1, 1, 1, 1, 1, 1, 1, 1, 1,\n",
       "       1, 1, 1, 1, 1, 1, 1, 1, 1, 1, 1, 1, 2, 2, 2, 2, 2, 2, 2, 2, 2, 2,\n",
       "       2, 2, 2, 2, 2, 2, 2, 2, 2, 2, 2, 2, 2, 2, 2, 2, 2, 2, 2, 2, 2, 2,\n",
       "       2, 2, 2, 2, 2, 2, 2, 2, 2, 2, 2, 2, 2, 2, 2, 2, 2, 2])"
      ]
     },
     "execution_count": 3,
     "metadata": {},
     "output_type": "execute_result"
    }
   ],
   "source": [
    "y"
   ]
  },
  {
   "cell_type": "code",
   "execution_count": 4,
   "id": "38437fc9-1d5e-4aa9-a98c-751e4d9b3759",
   "metadata": {},
   "outputs": [
    {
     "data": {
      "text/plain": [
       "150"
      ]
     },
     "execution_count": 4,
     "metadata": {},
     "output_type": "execute_result"
    }
   ],
   "source": [
    "y.size"
   ]
  },
  {
   "cell_type": "code",
   "execution_count": 5,
   "id": "039b600c-82b2-433d-ac14-c68f928fcca7",
   "metadata": {},
   "outputs": [
    {
     "data": {
      "text/plain": [
       "['sepal length (cm)',\n",
       " 'sepal width (cm)',\n",
       " 'petal length (cm)',\n",
       " 'petal width (cm)']"
      ]
     },
     "execution_count": 5,
     "metadata": {},
     "output_type": "execute_result"
    }
   ],
   "source": [
    "iris_data.feature_names"
   ]
  },
  {
   "cell_type": "code",
   "execution_count": 6,
   "id": "f6e8bb37-dbaa-46a4-9663-329062c0de60",
   "metadata": {},
   "outputs": [],
   "source": [
    "list_sepal_length=list()\n",
    "list_sepal_width=list()\n",
    "list_petal_length=list()\n",
    "list_petal_width=list()\n",
    "for row in X:\n",
    "    list_sepal_length.append(row[0])\n",
    "    list_sepal_width.append(row[1])\n",
    "    list_petal_length.append(row[2])\n",
    "    list_petal_width.append(row[3])"
   ]
  },
  {
   "cell_type": "code",
   "execution_count": 7,
   "id": "1d691050-8888-4e8f-a80f-0e317f407e16",
   "metadata": {},
   "outputs": [],
   "source": [
    "sepal_length_mean=np.mean(list_sepal_length)\n",
    "sepal_length_ecart=np.std(list_sepal_length)\n",
    "sepal_width_mean=np.mean(list_sepal_width)\n",
    "sepal_width_ecart=np.std(list_sepal_width)\n",
    "petal_length_ecart=np.std(list_petal_length)\n",
    "petal_length_mean=np.mean(list_petal_width)\n",
    "petal_width_ecart=np.std(list_petal_width)"
   ]
  },
  {
   "cell_type": "code",
   "execution_count": 8,
   "id": "a7e0f878-4416-41df-9e6d-65ebe911d977",
   "metadata": {},
   "outputs": [
    {
     "data": {
      "text/plain": [
       "(5.843333333333334, 0.8253012917851409)"
      ]
     },
     "execution_count": 8,
     "metadata": {},
     "output_type": "execute_result"
    }
   ],
   "source": [
    "sepal_length_mean,sepal_length_ecart"
   ]
  },
  {
   "cell_type": "code",
   "execution_count": 9,
   "id": "b6a647a4-ea5c-4bb9-aa29-945eaf7a8d0f",
   "metadata": {},
   "outputs": [
    {
     "data": {
      "text/plain": [
       "3.0573333333333337"
      ]
     },
     "execution_count": 9,
     "metadata": {},
     "output_type": "execute_result"
    }
   ],
   "source": [
    "sepal_width_mean"
   ]
  },
  {
   "cell_type": "code",
   "execution_count": 10,
   "id": "82e1b355-fa45-4812-a2ed-5d8a16756a67",
   "metadata": {},
   "outputs": [],
   "source": [
    "classe1=np.count_nonzero(y==0)\n",
    "classe2=np.count_nonzero(y==1)\n",
    "classe3=np.count_nonzero(y==2)"
   ]
  },
  {
   "cell_type": "code",
   "execution_count": 11,
   "id": "e0c4a20f-528f-4f4d-94f4-a6a29563dace",
   "metadata": {},
   "outputs": [
    {
     "data": {
      "text/plain": [
       "(50, 50, 50)"
      ]
     },
     "execution_count": 11,
     "metadata": {},
     "output_type": "execute_result"
    }
   ],
   "source": [
    "classe1,classe2,classe3"
   ]
  },
  {
   "cell_type": "code",
   "execution_count": 12,
   "id": "103d3613-6f38-4153-9087-1037aa9578e8",
   "metadata": {},
   "outputs": [],
   "source": [
    "from sklearn.model_selection import train_test_split\n",
    "X_train, X_test, y_train, y_test = train_test_split(X, y,train_size=0.05,random_state=0)"
   ]
  },
  {
   "cell_type": "code",
   "execution_count": 13,
   "id": "75986578-9558-4e16-8d6b-784440a5a2aa",
   "metadata": {},
   "outputs": [
    {
     "name": "stdout",
     "output_type": "stream",
     "text": [
      "Fitting 4 folds for each of 32 candidates, totalling 128 fits\n"
     ]
    },
    {
     "name": "stderr",
     "output_type": "stream",
     "text": [
      "/home/etudiant/anaconda3/lib/python3.9/site-packages/sklearn/model_selection/_split.py:676: UserWarning: The least populated class in y has only 1 members, which is less than n_splits=4.\n",
      "  warnings.warn(\n"
     ]
    },
    {
     "data": {
      "text/plain": [
       "GridSearchCV(cv=4, estimator=DecisionTreeClassifier(),\n",
       "             param_grid={'max_depth': [1, 3, 5, 10, 20, 30, 40, 50],\n",
       "                         'min_samples_leaf': [20, 30, 50, 100]},\n",
       "             verbose=True)"
      ]
     },
     "execution_count": 13,
     "metadata": {},
     "output_type": "execute_result"
    }
   ],
   "source": [
    "values_depth = [1, 3, 5, 10, 20, 30, 40, 50] \n",
    "values_leaf=[20,30,50,100]\n",
    "parameters={'max_depth':values_depth,'min_samples_leaf':values_leaf}\n",
    "model = tree.DecisionTreeClassifier()\n",
    "grid_search = GridSearchCV(estimator=model,param_grid=parameters,verbose=True,cv=4)\n",
    "grid_search.fit(X_train, y_train)"
   ]
  },
  {
   "cell_type": "code",
   "execution_count": 14,
   "id": "06dbdeea-7139-4e0c-a5fe-e6187bdd7e72",
   "metadata": {},
   "outputs": [
    {
     "data": {
      "text/plain": [
       "{'max_depth': 1, 'min_samples_leaf': 20}"
      ]
     },
     "execution_count": 14,
     "metadata": {},
     "output_type": "execute_result"
    }
   ],
   "source": [
    "grid_search.best_params_"
   ]
  },
  {
   "cell_type": "code",
   "execution_count": 15,
   "id": "b9b1aca9-72fd-428c-894b-fb5971bdd5d0",
   "metadata": {},
   "outputs": [
    {
     "data": {
      "text/plain": [
       "0.625"
      ]
     },
     "execution_count": 15,
     "metadata": {},
     "output_type": "execute_result"
    }
   ],
   "source": [
    "grid_search.best_score_"
   ]
  },
  {
   "cell_type": "code",
   "execution_count": 25,
   "id": "dcee7d84-fdac-40eb-93bd-766d6a07db94",
   "metadata": {},
   "outputs": [],
   "source": [
    "# Paramètres\n",
    "n_classes = 3\n",
    "plot_colors = \"bry\" # blue-red-yellow\n",
    "plot_step = 0.02\n",
    "# Choisir les attributs longueur et largeur des pétales\n",
    "pair = [2, 3]\n",
    "# On ne garde seulement les deux attributs\n",
    "X = iris_data.data[:, pair]\n",
    "y = iris_data.target\n",
    "# Apprentissage de l'arbre\n",
    "clf = tree.DecisionTreeClassifier().fit(X, y)\n",
    "# Affichage de la surface de décision\n",
    "x_min, x_max = X[:, 0].min() - 1, X[:, 0].max() + 1"
   ]
  },
  {
   "cell_type": "code",
   "execution_count": 29,
   "id": "7d3cc3f3-c4f7-48c2-90a8-949ba6004995",
   "metadata": {},
   "outputs": [
    {
     "data": {
      "image/png": "[encoded data removed]",
      "text/plain": [
       "<Figure size 432x288 with 1 Axes>"
      ]
     },
     "metadata": {
      "needs_background": "light"
     },
     "output_type": "display_data"
    }
   ],
   "source": [
    "xx, yy = np.meshgrid(np.arange(x_min, x_max, plot_step), np.arange(y_min,\n",
    "y_max, plot_step))\n",
    "Z = clf.predict(np.c_[xx.ravel(), yy.ravel()])\n",
    "Z = Z.reshape(xx.shape)\n",
    "cs = plt.contourf(xx, yy, Z, cmap=plt.cm.Paired)\n",
    "plt.xlabel(iris_data.feature_names[pair[0]])\n",
    "plt.ylabel(iris_data.feature_names[pair[1]])\n",
    "plt.axis(\"tight\")\n",
    "# Affichage des points d'apprentissage\n",
    "for i, color in zip(range(n_classes), plot_colors):\n",
    "    idx = np.where(y == i)\n",
    "    plt.scatter(X[idx, 0], X[idx, 1], c=color, label=iris_data.target_names[i],\n",
    "cmap=plt.cm.Paired)\n",
    "plt.axis(\"tight\")\n",
    "plt.suptitle(\"Decision surface of a decision tree using paired features\")\n",
    "plt.legend()\n",
    "plt.show()"
   ]
  },
  {
   "cell_type": "code",
   "execution_count": null,
   "id": "65ebe021-5cac-4ac4-a534-ac16f556cd9c",
   "metadata": {},
   "outputs": [],
   "source": []
  }
 ],
 "metadata": {
  "kernelspec": {
   "display_name": "Python 3 (ipykernel)",
   "language": "python",
   "name": "python3"
  },
  "language_info": {
   "codemirror_mode": {
    "name": "ipython",
    "version": 3
   },
   "file_extension": ".py",
   "mimetype": "text/x-python",
   "name": "python",
   "nbconvert_exporter": "python",
   "pygments_lexer": "ipython3",
   "version": "3.9.12"
  }
 },
 "nbformat": 4,
 "nbformat_minor": 5
}
